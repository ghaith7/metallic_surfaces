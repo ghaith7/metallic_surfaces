{
 "cells": [
  {
   "cell_type": "code",
   "execution_count": 82,
   "metadata": {},
   "outputs": [],
   "source": [
    "import cv2\n",
    "import time\n",
    "from matplotlib import pyplot as plt\n",
    "import os\n",
    "from shutil import copyfile\n",
    "import pandas as pd"
   ]
  },
  {
   "cell_type": "markdown",
   "metadata": {},
   "source": [
    "## preprocessing and shit"
   ]
  },
  {
   "cell_type": "code",
   "execution_count": 42,
   "metadata": {},
   "outputs": [
    {
     "name": "stdout",
     "output_type": "stream",
     "text": [
      "['MT_Blowhole', 'MT_Break', 'MT_Crack', 'MT_Fray', 'MT_Free', 'MT_Uneven']\n"
     ]
    }
   ],
   "source": [
    "classes = os.listdir(\"imgs\")\n",
    "print(classes)"
   ]
  },
  {
   "cell_type": "code",
   "execution_count": 43,
   "metadata": {},
   "outputs": [],
   "source": [
    "dirpath = lambda p : \"imgs/\"+p+\"/Imgs\" "
   ]
  },
  {
   "cell_type": "code",
   "execution_count": 47,
   "metadata": {},
   "outputs": [
    {
     "name": "stdout",
     "output_type": "stream",
     "text": [
      "['imgs/MT_Blowhole/Imgs', 'imgs/MT_Break/Imgs', 'imgs/MT_Crack/Imgs', 'imgs/MT_Fray/Imgs', 'imgs/MT_Free/Imgs', 'imgs/MT_Uneven/Imgs']\n"
     ]
    }
   ],
   "source": [
    "for i,classe in enumerate(classes):\n",
    "    classes[i] = dirpath(classe)\n",
    "print(classes)"
   ]
  },
  {
   "cell_type": "code",
   "execution_count": 56,
   "metadata": {},
   "outputs": [
    {
     "name": "stdout",
     "output_type": "stream",
     "text": [
      "imgs/MT_Blowhole/Imgs 115\n",
      "imgs/MT_Break/Imgs 85\n",
      "imgs/MT_Crack/Imgs 57\n",
      "imgs/MT_Fray/Imgs 32\n",
      "imgs/MT_Free/Imgs 952\n",
      "imgs/MT_Uneven/Imgs 103\n"
     ]
    }
   ],
   "source": [
    "for classe in classes:\n",
    "    imgs = os.listdir(classe)\n",
    "    img_set = [i for i in imgs if i[-3:]==\"jpg\"]\n",
    "    print(classe,len(img_set))\n",
    "    for filename in img_set:\n",
    "        this_file = classe+\"/\" + filename\n",
    "        destination = classe[:-4] + filename\n",
    "        copyfile(this_file, destination)"
   ]
  },
  {
   "cell_type": "code",
   "execution_count": 57,
   "metadata": {},
   "outputs": [],
   "source": [
    "classes = [c[:-4] for c in classes]"
   ]
  },
  {
   "cell_type": "code",
   "execution_count": 61,
   "metadata": {},
   "outputs": [],
   "source": [
    "categories=[]\n",
    "imgs_set = []\n",
    "for c in classes : \n",
    "    files = os.listdir(c)\n",
    "    for file in files:\n",
    "        imgs_set.append(c+file)\n",
    "        categories.append(c.split(\"_\")[1][:-1])"
   ]
  },
  {
   "cell_type": "code",
   "execution_count": 76,
   "metadata": {},
   "outputs": [],
   "source": [
    "rotated=[]\n",
    "for i in range(0,len(imgs_set)):\n",
    "    if not(categories[i]==\"Free\"):\n",
    "        im=imgs_set[i]\n",
    "        img = cv2.imread(im)\n",
    "        img_flip_ud = cv2.flip(img, 0)\n",
    "        rotated_name = im[:-4]+\"fliped.jpg\"\n",
    "        cv2.imwrite(rotated_name, img_flip_ud)\n",
    "        rotated.append(rotated_name)"
   ]
  },
  {
   "cell_type": "code",
   "execution_count": 77,
   "metadata": {},
   "outputs": [],
   "source": [
    "imgs_set.extend(rotated)"
   ]
  },
  {
   "cell_type": "code",
   "execution_count": 78,
   "metadata": {},
   "outputs": [],
   "source": [
    "categories.extend([c for c in categories if c!= \"Free\"])"
   ]
  },
  {
   "cell_type": "code",
   "execution_count": 79,
   "metadata": {},
   "outputs": [
    {
     "name": "stdout",
     "output_type": "stream",
     "text": [
      "5040 5040\n"
     ]
    }
   ],
   "source": [
    "print(len(imgs_set),len(categories))"
   ]
  },
  {
   "cell_type": "code",
   "execution_count": 99,
   "metadata": {},
   "outputs": [],
   "source": [
    "width=[]\n",
    "height=[]\n",
    "for im in imgs_set:\n",
    "    img = cv2.imread(im)\n",
    "    width.append(img.shape[0])\n",
    "    height.append(img.shape[1])"
   ]
  },
  {
   "cell_type": "code",
   "execution_count": 100,
   "metadata": {},
   "outputs": [
    {
     "name": "stdout",
     "output_type": "stream",
     "text": [
      "5040 5040\n"
     ]
    }
   ],
   "source": [
    "print(len(width),len(height))"
   ]
  },
  {
   "cell_type": "code",
   "execution_count": 101,
   "metadata": {},
   "outputs": [
    {
     "data": {
      "text/plain": [
       "{630}"
      ]
     },
     "execution_count": 101,
     "metadata": {},
     "output_type": "execute_result"
    }
   ],
   "source": [
    "set(width)"
   ]
  },
  {
   "cell_type": "code",
   "execution_count": 83,
   "metadata": {},
   "outputs": [],
   "source": [
    "df = pd.DataFrame()\n",
    "df[\"img_path\"] = imgs_set\n",
    "df[\"category\"] = categories\n",
    "df[\"width\"] = width\n",
    "df[\"height\"] = height"
   ]
  },
  {
   "cell_type": "code",
   "execution_count": 87,
   "metadata": {},
   "outputs": [],
   "source": [
    "from sklearn.utils import shuffle\n",
    "df = shuffle(df)"
   ]
  },
  {
   "cell_type": "code",
   "execution_count": 88,
   "metadata": {},
   "outputs": [
    {
     "data": {
      "text/html": [
       "<div>\n",
       "<style scoped>\n",
       "    .dataframe tbody tr th:only-of-type {\n",
       "        vertical-align: middle;\n",
       "    }\n",
       "\n",
       "    .dataframe tbody tr th {\n",
       "        vertical-align: top;\n",
       "    }\n",
       "\n",
       "    .dataframe thead th {\n",
       "        text-align: right;\n",
       "    }\n",
       "</style>\n",
       "<table border=\"1\" class=\"dataframe\">\n",
       "  <thead>\n",
       "    <tr style=\"text-align: right;\">\n",
       "      <th></th>\n",
       "      <th>img_path</th>\n",
       "      <th>category</th>\n",
       "      <th>width</th>\n",
       "      <th>height</th>\n",
       "    </tr>\n",
       "  </thead>\n",
       "  <tbody>\n",
       "    <tr>\n",
       "      <td>575</td>\n",
       "      <td>imgs/MT_Free/exp2_num_355658.jpg</td>\n",
       "      <td>Free</td>\n",
       "      <td>376</td>\n",
       "      <td>483</td>\n",
       "    </tr>\n",
       "    <tr>\n",
       "      <td>3215</td>\n",
       "      <td>imgs/MT_Break/exp2_num_304305rotatedupsidedown...</td>\n",
       "      <td>Break</td>\n",
       "      <td>206</td>\n",
       "      <td>262</td>\n",
       "    </tr>\n",
       "    <tr>\n",
       "      <td>4833</td>\n",
       "      <td>imgs/MT_Break/exp6_num_105927rotatedupsidedown...</td>\n",
       "      <td>Break</td>\n",
       "      <td>611</td>\n",
       "      <td>252</td>\n",
       "    </tr>\n",
       "    <tr>\n",
       "      <td>641</td>\n",
       "      <td>imgs/MT_Free/exp3_num_1855.jpg</td>\n",
       "      <td>Free</td>\n",
       "      <td>270</td>\n",
       "      <td>250</td>\n",
       "    </tr>\n",
       "    <tr>\n",
       "      <td>468</td>\n",
       "      <td>imgs/MT_Free/exp2_num_148952.jpg</td>\n",
       "      <td>Free</td>\n",
       "      <td>240</td>\n",
       "      <td>609</td>\n",
       "    </tr>\n",
       "  </tbody>\n",
       "</table>\n",
       "</div>"
      ],
      "text/plain": [
       "                                               img_path category  width  \\\n",
       "575                    imgs/MT_Free/exp2_num_355658.jpg     Free    376   \n",
       "3215  imgs/MT_Break/exp2_num_304305rotatedupsidedown...    Break    206   \n",
       "4833  imgs/MT_Break/exp6_num_105927rotatedupsidedown...    Break    611   \n",
       "641                      imgs/MT_Free/exp3_num_1855.jpg     Free    270   \n",
       "468                    imgs/MT_Free/exp2_num_148952.jpg     Free    240   \n",
       "\n",
       "      height  \n",
       "575      483  \n",
       "3215     262  \n",
       "4833     252  \n",
       "641      250  \n",
       "468      609  "
      ]
     },
     "execution_count": 88,
     "metadata": {},
     "output_type": "execute_result"
    }
   ],
   "source": [
    "df.head()"
   ]
  },
  {
   "cell_type": "code",
   "execution_count": 89,
   "metadata": {},
   "outputs": [
    {
     "data": {
      "text/plain": [
       "Free        1904\n",
       "Blowhole     920\n",
       "Uneven       824\n",
       "Break        680\n",
       "Crack        456\n",
       "Fray         256\n",
       "Name: category, dtype: int64"
      ]
     },
     "execution_count": 89,
     "metadata": {},
     "output_type": "execute_result"
    }
   ],
   "source": [
    "df['category'].value_counts()"
   ]
  },
  {
   "cell_type": "code",
   "execution_count": 90,
   "metadata": {},
   "outputs": [],
   "source": [
    "import matplotlib.pyplot as plt"
   ]
  },
  {
   "cell_type": "code",
   "execution_count": 91,
   "metadata": {},
   "outputs": [
    {
     "data": {
      "text/plain": [
       "([<matplotlib.patches.Wedge at 0x1a4ffb469c8>,\n",
       "  <matplotlib.patches.Wedge at 0x1a4ffb50088>,\n",
       "  <matplotlib.patches.Wedge at 0x1a4ffb50b48>,\n",
       "  <matplotlib.patches.Wedge at 0x1a4ffb54548>,\n",
       "  <matplotlib.patches.Wedge at 0x1a4ffb5c348>,\n",
       "  <matplotlib.patches.Wedge at 0x1a4ffb5cf08>],\n",
       " [Text(0.4120672294154692, 1.0199022494542598, 'Free'),\n",
       "  Text(-1.079263234149467, 0.21258144654045638, 'Blowhole'),\n",
       "  Text(-0.6901187585430976, -0.8565839708440346, 'Uneven'),\n",
       "  Text(0.2820509939256454, -1.0632249229704671, 'Break'),\n",
       "  Text(0.9057614687887486, -0.6241763866549654, 'Crack'),\n",
       "  Text(1.0860247796870748, -0.17478609185413077, 'Fray')])"
      ]
     },
     "execution_count": 91,
     "metadata": {},
     "output_type": "execute_result"
    },
    {
     "data": {
      "image/png": "[encoded data removed]",
      "text/plain": [
       "<Figure size 432x288 with 1 Axes>"
      ]
     },
     "metadata": {},
     "output_type": "display_data"
    }
   ],
   "source": [
    "plt.pie(df['category'].value_counts(),labels=df['category'].value_counts().keys())"
   ]
  },
  {
   "cell_type": "code",
   "execution_count": 112,
   "metadata": {},
   "outputs": [],
   "source": [
    "for file in df[\"img_path\"]:\n",
    "    img = cv2.imread(file)\n",
    "    resized = cv2.resize(img, (320,320))\n",
    "    cv2.imwrite(file, resized)"
   ]
  },
  {
   "cell_type": "code",
   "execution_count": 102,
   "metadata": {},
   "outputs": [
    {
     "data": {
      "text/html": [
       "<div>\n",
       "<style scoped>\n",
       "    .dataframe tbody tr th:only-of-type {\n",
       "        vertical-align: middle;\n",
       "    }\n",
       "\n",
       "    .dataframe tbody tr th {\n",
       "        vertical-align: top;\n",
       "    }\n",
       "\n",
       "    .dataframe thead th {\n",
       "        text-align: right;\n",
       "    }\n",
       "</style>\n",
       "<table border=\"1\" class=\"dataframe\">\n",
       "  <thead>\n",
       "    <tr style=\"text-align: right;\">\n",
       "      <th></th>\n",
       "      <th>img_path</th>\n",
       "      <th>category</th>\n",
       "      <th>width</th>\n",
       "      <th>height</th>\n",
       "    </tr>\n",
       "  </thead>\n",
       "  <tbody>\n",
       "    <tr>\n",
       "      <td>575</td>\n",
       "      <td>imgs/MT_Free/exp2_num_355658.jpg</td>\n",
       "      <td>Free</td>\n",
       "      <td>376</td>\n",
       "      <td>483</td>\n",
       "    </tr>\n",
       "    <tr>\n",
       "      <td>3215</td>\n",
       "      <td>imgs/MT_Break/exp2_num_304305rotatedupsidedown...</td>\n",
       "      <td>Break</td>\n",
       "      <td>206</td>\n",
       "      <td>262</td>\n",
       "    </tr>\n",
       "    <tr>\n",
       "      <td>4833</td>\n",
       "      <td>imgs/MT_Break/exp6_num_105927rotatedupsidedown...</td>\n",
       "      <td>Break</td>\n",
       "      <td>611</td>\n",
       "      <td>252</td>\n",
       "    </tr>\n",
       "    <tr>\n",
       "      <td>641</td>\n",
       "      <td>imgs/MT_Free/exp3_num_1855.jpg</td>\n",
       "      <td>Free</td>\n",
       "      <td>270</td>\n",
       "      <td>250</td>\n",
       "    </tr>\n",
       "    <tr>\n",
       "      <td>468</td>\n",
       "      <td>imgs/MT_Free/exp2_num_148952.jpg</td>\n",
       "      <td>Free</td>\n",
       "      <td>240</td>\n",
       "      <td>609</td>\n",
       "    </tr>\n",
       "  </tbody>\n",
       "</table>\n",
       "</div>"
      ],
      "text/plain": [
       "                                               img_path category  width  \\\n",
       "575                    imgs/MT_Free/exp2_num_355658.jpg     Free    376   \n",
       "3215  imgs/MT_Break/exp2_num_304305rotatedupsidedown...    Break    206   \n",
       "4833  imgs/MT_Break/exp6_num_105927rotatedupsidedown...    Break    611   \n",
       "641                      imgs/MT_Free/exp3_num_1855.jpg     Free    270   \n",
       "468                    imgs/MT_Free/exp2_num_148952.jpg     Free    240   \n",
       "\n",
       "      height  \n",
       "575      483  \n",
       "3215     262  \n",
       "4833     252  \n",
       "641      250  \n",
       "468      609  "
      ]
     },
     "execution_count": 102,
     "metadata": {},
     "output_type": "execute_result"
    }
   ],
   "source": [
    "df.head()"
   ]
  },
  {
   "cell_type": "markdown",
   "metadata": {},
   "source": [
    "## model"
   ]
  },
  {
   "cell_type": "code",
   "execution_count": 97,
   "metadata": {},
   "outputs": [],
   "source": [
    "import tensorflow as tf\n",
    "from tensorflow.keras.optimizers import RMSprop\n",
    "from tensorflow.keras.preprocessing.image import ImageDataGenerator"
   ]
  },
  {
   "cell_type": "code",
   "execution_count": 104,
   "metadata": {},
   "outputs": [],
   "source": [
    "datagen = ImageDataGenerator(rescale=1.0/255.)"
   ]
  },
  {
   "cell_type": "code",
   "execution_count": 120,
   "metadata": {},
   "outputs": [
    {
     "name": "stdout",
     "output_type": "stream",
     "text": [
      "Found 5040 validated image filenames belonging to 6 classes.\n"
     ]
    }
   ],
   "source": [
    "generator = datagen.flow_from_dataframe(df,x_col='img_path', y_col='category',\n",
    "                                                    batch_size=40,\n",
    "                                                    class_mode='categorical',\n",
    "                                                    target_size=(320, 320))"
   ]
  },
  {
   "cell_type": "code",
   "execution_count": 121,
   "metadata": {},
   "outputs": [],
   "source": [
    "model = tf.keras.models.Sequential([\n",
    "    tf.keras.layers.Conv2D(16, (3, 3), activation='relu', input_shape=(320, 320, 3)),\n",
    "    tf.keras.layers.MaxPooling2D(2, 2),\n",
    "    tf.keras.layers.Conv2D(32, (3, 3), activation='relu'),\n",
    "    tf.keras.layers.MaxPooling2D(2, 2),\n",
    "    tf.keras.layers.Conv2D(64, (3, 3), activation='relu'),\n",
    "    tf.keras.layers.MaxPooling2D(2, 2),\n",
    "    tf.keras.layers.Flatten(),\n",
    "    tf.keras.layers.Dense(128, activation='relu'),\n",
    "    tf.keras.layers.Dense(6, activation='softmax')\n",
    "]) "
   ]
  },
  {
   "cell_type": "code",
   "execution_count": 124,
   "metadata": {},
   "outputs": [],
   "source": [
    "model.compile(optimizer=RMSprop(lr=0.001), loss='categorical_crossentropy', metrics=['accuracy'])"
   ]
  },
  {
   "cell_type": "code",
   "execution_count": 122,
   "metadata": {},
   "outputs": [
    {
     "name": "stdout",
     "output_type": "stream",
     "text": [
      "Model: \"sequential_5\"\n",
      "_________________________________________________________________\n",
      " Layer (type)                Output Shape              Param #   \n",
      "=================================================================\n",
      " conv2d_15 (Conv2D)          (None, 318, 318, 16)      448       \n",
      "                                                                 \n",
      " max_pooling2d_15 (MaxPoolin  (None, 159, 159, 16)     0         \n",
      " g2D)                                                            \n",
      "                                                                 \n",
      " conv2d_16 (Conv2D)          (None, 157, 157, 32)      4640      \n",
      "                                                                 \n",
      " max_pooling2d_16 (MaxPoolin  (None, 78, 78, 32)       0         \n",
      " g2D)                                                            \n",
      "                                                                 \n",
      " conv2d_17 (Conv2D)          (None, 76, 76, 64)        18496     \n",
      "                                                                 \n",
      " max_pooling2d_17 (MaxPoolin  (None, 38, 38, 64)       0         \n",
      " g2D)                                                            \n",
      "                                                                 \n",
      " flatten_5 (Flatten)         (None, 92416)             0         \n",
      "                                                                 \n",
      " dense_11 (Dense)            (None, 128)               11829376  \n",
      "                                                                 \n",
      " dense_12 (Dense)            (None, 6)                 774       \n",
      "                                                                 \n",
      "=================================================================\n",
      "Total params: 11,853,734\n",
      "Trainable params: 11,853,734\n",
      "Non-trainable params: 0\n",
      "_________________________________________________________________\n"
     ]
    }
   ],
   "source": [
    "model.summary()"
   ]
  },
  {
   "cell_type": "code",
   "execution_count": 108,
   "metadata": {},
   "outputs": [],
   "source": [
    "from keras.callbacks import ModelCheckpoint"
   ]
  },
  {
   "cell_type": "code",
   "execution_count": 109,
   "metadata": {},
   "outputs": [],
   "source": [
    "filepath = \"model_weights_saved.hdf5\"\n",
    "checkpoint = ModelCheckpoint(filepath, monitor='loss', verbose=1, save_best_only=True, mode='min')\n",
    "desired_callbacks = [checkpoint]"
   ]
  },
  {
   "cell_type": "code",
   "execution_count": 130,
   "metadata": {},
   "outputs": [
    {
     "name": "stdout",
     "output_type": "stream",
     "text": [
      "126/126 [==============================] - ETA: 0s - loss: 0.0243 - accuracy: 0.9980\n",
      "Epoch 00001: loss did not improve from 0.02085\n",
      "126/126 [==============================] - 23s 181ms/step - loss: 0.0243 - accuracy: 0.9980\n"
     ]
    }
   ],
   "source": [
    "history = model.fit(generator,\n",
    "                    epochs=1,\n",
    "                    verbose=1,\n",
    "                    callbacks=desired_callbacks)"
   ]
  },
  {
   "cell_type": "code",
   "execution_count": 127,
   "metadata": {},
   "outputs": [
    {
     "name": "stdout",
     "output_type": "stream",
     "text": [
      "INFO:tensorflow:Assets written to: /model/assets\n"
     ]
    }
   ],
   "source": [
    "model.save(\"/model/\")"
   ]
  },
  {
   "cell_type": "code",
   "execution_count": null,
   "metadata": {},
   "outputs": [],
   "source": []
  }
 ],
 "metadata": {
  "kernelspec": {
   "display_name": "Python 3",
   "language": "python",
   "name": "python3"
  },
  "language_info": {
   "codemirror_mode": {
    "name": "ipython",
    "version": 3
   },
   "file_extension": ".py",
   "mimetype": "text/x-python",
   "name": "python",
   "nbconvert_exporter": "python",
   "pygments_lexer": "ipython3",
   "version": "3.7.4"
  }
 },
 "nbformat": 4,
 "nbformat_minor": 2
}
